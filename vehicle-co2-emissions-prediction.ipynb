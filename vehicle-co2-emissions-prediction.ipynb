{
 "cells": [
  {
   "cell_type": "code",
   "execution_count": 1,
   "id": "64412a57",
   "metadata": {
    "_cell_guid": "b1076dfc-b9ad-4769-8c92-a6c4dae69d19",
    "_uuid": "8f2839f25d086af736a60e9eeb907d3b93b6e0e5",
    "execution": {
     "iopub.execute_input": "2023-10-23T06:31:37.978704Z",
     "iopub.status.busy": "2023-10-23T06:31:37.978333Z",
     "iopub.status.idle": "2023-10-23T06:31:38.351970Z",
     "shell.execute_reply": "2023-10-23T06:31:38.351166Z"
    },
    "papermill": {
     "duration": 0.385993,
     "end_time": "2023-10-23T06:31:38.355189",
     "exception": false,
     "start_time": "2023-10-23T06:31:37.969196",
     "status": "completed"
    },
    "tags": []
   },
   "outputs": [
    {
     "name": "stdout",
     "output_type": "stream",
     "text": [
      "/kaggle/input/fuel-concumption-ratings-2023/Fuel Consumption Ratings 2023.csv\n"
     ]
    }
   ],
   "source": [
    "# This Python 3 environment comes with many helpful analytics libraries installed\n",
    "# It is defined by the kaggle/python Docker image: https://github.com/kaggle/docker-python\n",
    "# For example, here's several helpful packages to load\n",
    "\n",
    "import numpy as np # linear algebra\n",
    "import pandas as pd # data processing, CSV file I/O (e.g. pd.read_csv)\n",
    "\n",
    "# Input data files are available in the read-only \"../input/\" directory\n",
    "# For example, running this (by clicking run or pressing Shift+Enter) will list all files under the input directory\n",
    "\n",
    "import os\n",
    "for dirname, _, filenames in os.walk('/kaggle/input'):\n",
    "    for filename in filenames:\n",
    "        print(os.path.join(dirname, filename))\n",
    "\n",
    "# You can write up to 20GB to the current directory (/kaggle/working/) that gets preserved as output when you create a version using \"Save & Run All\" \n",
    "# You can also write temporary files to /kaggle/temp/, but they won't be saved outside of the current session"
   ]
  },
  {
   "cell_type": "markdown",
   "id": "0166716a",
   "metadata": {
    "papermill": {
     "duration": 0.00713,
     "end_time": "2023-10-23T06:31:38.370027",
     "exception": false,
     "start_time": "2023-10-23T06:31:38.362897",
     "status": "completed"
    },
    "tags": []
   },
   "source": [
    "# 1. Import necessary libraries"
   ]
  },
  {
   "cell_type": "code",
   "execution_count": 2,
   "id": "acb10090",
   "metadata": {
    "execution": {
     "iopub.execute_input": "2023-10-23T06:31:38.386244Z",
     "iopub.status.busy": "2023-10-23T06:31:38.385589Z",
     "iopub.status.idle": "2023-10-23T06:31:39.869695Z",
     "shell.execute_reply": "2023-10-23T06:31:39.868465Z"
    },
    "papermill": {
     "duration": 1.494826,
     "end_time": "2023-10-23T06:31:39.872128",
     "exception": false,
     "start_time": "2023-10-23T06:31:38.377302",
     "status": "completed"
    },
    "tags": []
   },
   "outputs": [],
   "source": [
    "import numpy as np \n",
    "import pandas as pd\n",
    "from matplotlib import pyplot as plt\n",
    "import seaborn as sns"
   ]
  },
  {
   "cell_type": "markdown",
   "id": "ae136f10",
   "metadata": {
    "papermill": {
     "duration": 0.006707,
     "end_time": "2023-10-23T06:31:39.886223",
     "exception": false,
     "start_time": "2023-10-23T06:31:39.879516",
     "status": "completed"
    },
    "tags": []
   },
   "source": [
    "# 2. Load the dataset"
   ]
  },
  {
   "cell_type": "code",
   "execution_count": 3,
   "id": "8325f94b",
   "metadata": {
    "execution": {
     "iopub.execute_input": "2023-10-23T06:31:39.901824Z",
     "iopub.status.busy": "2023-10-23T06:31:39.901404Z",
     "iopub.status.idle": "2023-10-23T06:31:39.924723Z",
     "shell.execute_reply": "2023-10-23T06:31:39.923527Z"
    },
    "papermill": {
     "duration": 0.0339,
     "end_time": "2023-10-23T06:31:39.927208",
     "exception": false,
     "start_time": "2023-10-23T06:31:39.893308",
     "status": "completed"
    },
    "tags": []
   },
   "outputs": [],
   "source": [
    "df=pd.read_csv(\"/kaggle/input/fuel-concumption-ratings-2023/Fuel Consumption Ratings 2023.csv\",encoding='ISO-8859-1')"
   ]
  },
  {
   "cell_type": "markdown",
   "id": "34f00176",
   "metadata": {
    "papermill": {
     "duration": 0.00669,
     "end_time": "2023-10-23T06:31:39.941040",
     "exception": false,
     "start_time": "2023-10-23T06:31:39.934350",
     "status": "completed"
    },
    "tags": []
   },
   "source": [
    "# 3. Basic Data Exploration"
   ]
  },
  {
   "cell_type": "code",
   "execution_count": 4,
   "id": "aa6a9c95",
   "metadata": {
    "execution": {
     "iopub.execute_input": "2023-10-23T06:31:39.956705Z",
     "iopub.status.busy": "2023-10-23T06:31:39.956055Z",
     "iopub.status.idle": "2023-10-23T06:31:39.988786Z",
     "shell.execute_reply": "2023-10-23T06:31:39.987718Z"
    },
    "papermill": {
     "duration": 0.043168,
     "end_time": "2023-10-23T06:31:39.991130",
     "exception": false,
     "start_time": "2023-10-23T06:31:39.947962",
     "status": "completed"
    },
    "tags": []
   },
   "outputs": [
    {
     "data": {
      "text/html": [
       "<div>\n",
       "<style scoped>\n",
       "    .dataframe tbody tr th:only-of-type {\n",
       "        vertical-align: middle;\n",
       "    }\n",
       "\n",
       "    .dataframe tbody tr th {\n",
       "        vertical-align: top;\n",
       "    }\n",
       "\n",
       "    .dataframe thead th {\n",
       "        text-align: right;\n",
       "    }\n",
       "</style>\n",
       "<table border=\"1\" class=\"dataframe\">\n",
       "  <thead>\n",
       "    <tr style=\"text-align: right;\">\n",
       "      <th></th>\n",
       "      <th>Year</th>\n",
       "      <th>Make</th>\n",
       "      <th>Model</th>\n",
       "      <th>Vehicle Class</th>\n",
       "      <th>Engine Size (L)</th>\n",
       "      <th>Cylinders</th>\n",
       "      <th>Transmission</th>\n",
       "      <th>Fuel Type</th>\n",
       "      <th>Fuel Consumption (L/100Km)</th>\n",
       "      <th>Hwy (L/100 km)</th>\n",
       "      <th>Comb (L/100 km)</th>\n",
       "      <th>Comb (mpg)</th>\n",
       "      <th>CO2 Emissions (g/km)</th>\n",
       "      <th>CO2 Rating</th>\n",
       "      <th>Smog Rating</th>\n",
       "    </tr>\n",
       "  </thead>\n",
       "  <tbody>\n",
       "    <tr>\n",
       "      <th>0</th>\n",
       "      <td>2023</td>\n",
       "      <td>Acura</td>\n",
       "      <td>Integra</td>\n",
       "      <td>Full-size</td>\n",
       "      <td>1.5</td>\n",
       "      <td>4.0</td>\n",
       "      <td>AV7</td>\n",
       "      <td>Z</td>\n",
       "      <td>7.9</td>\n",
       "      <td>6.3</td>\n",
       "      <td>7.2</td>\n",
       "      <td>39.0</td>\n",
       "      <td>167.0</td>\n",
       "      <td>6.0</td>\n",
       "      <td>7.0</td>\n",
       "    </tr>\n",
       "    <tr>\n",
       "      <th>1</th>\n",
       "      <td>2023</td>\n",
       "      <td>Acura</td>\n",
       "      <td>Integra A-SPEC</td>\n",
       "      <td>Full-size</td>\n",
       "      <td>1.5</td>\n",
       "      <td>4.0</td>\n",
       "      <td>AV7</td>\n",
       "      <td>Z</td>\n",
       "      <td>8.1</td>\n",
       "      <td>6.5</td>\n",
       "      <td>7.4</td>\n",
       "      <td>38.0</td>\n",
       "      <td>172.0</td>\n",
       "      <td>6.0</td>\n",
       "      <td>7.0</td>\n",
       "    </tr>\n",
       "    <tr>\n",
       "      <th>2</th>\n",
       "      <td>2023</td>\n",
       "      <td>Acura</td>\n",
       "      <td>Integra A-SPEC</td>\n",
       "      <td>Full-size</td>\n",
       "      <td>1.5</td>\n",
       "      <td>4.0</td>\n",
       "      <td>M6</td>\n",
       "      <td>Z</td>\n",
       "      <td>8.9</td>\n",
       "      <td>6.5</td>\n",
       "      <td>7.8</td>\n",
       "      <td>36.0</td>\n",
       "      <td>181.0</td>\n",
       "      <td>6.0</td>\n",
       "      <td>6.0</td>\n",
       "    </tr>\n",
       "    <tr>\n",
       "      <th>3</th>\n",
       "      <td>2023</td>\n",
       "      <td>Acura</td>\n",
       "      <td>MDX SH-AWD</td>\n",
       "      <td>SUV: Small</td>\n",
       "      <td>3.5</td>\n",
       "      <td>6.0</td>\n",
       "      <td>AS10</td>\n",
       "      <td>Z</td>\n",
       "      <td>12.6</td>\n",
       "      <td>9.4</td>\n",
       "      <td>11.2</td>\n",
       "      <td>25.0</td>\n",
       "      <td>263.0</td>\n",
       "      <td>4.0</td>\n",
       "      <td>5.0</td>\n",
       "    </tr>\n",
       "    <tr>\n",
       "      <th>4</th>\n",
       "      <td>2023</td>\n",
       "      <td>Acura</td>\n",
       "      <td>MDX SH-AWD Type S</td>\n",
       "      <td>SUV: Standard</td>\n",
       "      <td>3.0</td>\n",
       "      <td>6.0</td>\n",
       "      <td>AS10</td>\n",
       "      <td>Z</td>\n",
       "      <td>13.8</td>\n",
       "      <td>11.2</td>\n",
       "      <td>12.4</td>\n",
       "      <td>23.0</td>\n",
       "      <td>291.0</td>\n",
       "      <td>4.0</td>\n",
       "      <td>5.0</td>\n",
       "    </tr>\n",
       "  </tbody>\n",
       "</table>\n",
       "</div>"
      ],
      "text/plain": [
       "   Year   Make              Model  Vehicle Class  Engine Size (L)  Cylinders  \\\n",
       "0  2023  Acura            Integra      Full-size              1.5        4.0   \n",
       "1  2023  Acura     Integra A-SPEC      Full-size              1.5        4.0   \n",
       "2  2023  Acura     Integra A-SPEC      Full-size              1.5        4.0   \n",
       "3  2023  Acura         MDX SH-AWD     SUV: Small              3.5        6.0   \n",
       "4  2023  Acura  MDX SH-AWD Type S  SUV: Standard              3.0        6.0   \n",
       "\n",
       "  Transmission Fuel Type  Fuel Consumption (L/100Km)  Hwy (L/100 km)  \\\n",
       "0          AV7         Z                         7.9             6.3   \n",
       "1          AV7         Z                         8.1             6.5   \n",
       "2           M6         Z                         8.9             6.5   \n",
       "3         AS10         Z                        12.6             9.4   \n",
       "4         AS10         Z                        13.8            11.2   \n",
       "\n",
       "   Comb (L/100 km)  Comb (mpg)  CO2 Emissions (g/km)  CO2 Rating  Smog Rating  \n",
       "0              7.2        39.0                 167.0         6.0          7.0  \n",
       "1              7.4        38.0                 172.0         6.0          7.0  \n",
       "2              7.8        36.0                 181.0         6.0          6.0  \n",
       "3             11.2        25.0                 263.0         4.0          5.0  \n",
       "4             12.4        23.0                 291.0         4.0          5.0  "
      ]
     },
     "execution_count": 4,
     "metadata": {},
     "output_type": "execute_result"
    }
   ],
   "source": [
    "df.head()"
   ]
  },
  {
   "cell_type": "code",
   "execution_count": 5,
   "id": "549738b6",
   "metadata": {
    "execution": {
     "iopub.execute_input": "2023-10-23T06:31:40.008400Z",
     "iopub.status.busy": "2023-10-23T06:31:40.007341Z",
     "iopub.status.idle": "2023-10-23T06:31:40.013843Z",
     "shell.execute_reply": "2023-10-23T06:31:40.012987Z"
    },
    "papermill": {
     "duration": 0.017242,
     "end_time": "2023-10-23T06:31:40.015780",
     "exception": false,
     "start_time": "2023-10-23T06:31:39.998538",
     "status": "completed"
    },
    "tags": []
   },
   "outputs": [
    {
     "data": {
      "text/plain": [
       "(856, 15)"
      ]
     },
     "execution_count": 5,
     "metadata": {},
     "output_type": "execute_result"
    }
   ],
   "source": [
    "df.shape  # Dataset Shape"
   ]
  },
  {
   "cell_type": "code",
   "execution_count": 6,
   "id": "3d00a562",
   "metadata": {
    "execution": {
     "iopub.execute_input": "2023-10-23T06:31:40.032766Z",
     "iopub.status.busy": "2023-10-23T06:31:40.031984Z",
     "iopub.status.idle": "2023-10-23T06:31:40.069501Z",
     "shell.execute_reply": "2023-10-23T06:31:40.068453Z"
    },
    "papermill": {
     "duration": 0.048675,
     "end_time": "2023-10-23T06:31:40.071996",
     "exception": false,
     "start_time": "2023-10-23T06:31:40.023321",
     "status": "completed"
    },
    "tags": []
   },
   "outputs": [
    {
     "data": {
      "text/html": [
       "<div>\n",
       "<style scoped>\n",
       "    .dataframe tbody tr th:only-of-type {\n",
       "        vertical-align: middle;\n",
       "    }\n",
       "\n",
       "    .dataframe tbody tr th {\n",
       "        vertical-align: top;\n",
       "    }\n",
       "\n",
       "    .dataframe thead th {\n",
       "        text-align: right;\n",
       "    }\n",
       "</style>\n",
       "<table border=\"1\" class=\"dataframe\">\n",
       "  <thead>\n",
       "    <tr style=\"text-align: right;\">\n",
       "      <th></th>\n",
       "      <th>Engine Size (L)</th>\n",
       "      <th>Cylinders</th>\n",
       "      <th>Fuel Consumption (L/100Km)</th>\n",
       "      <th>Hwy (L/100 km)</th>\n",
       "      <th>Comb (L/100 km)</th>\n",
       "      <th>Comb (mpg)</th>\n",
       "      <th>CO2 Emissions (g/km)</th>\n",
       "      <th>CO2 Rating</th>\n",
       "      <th>Smog Rating</th>\n",
       "    </tr>\n",
       "  </thead>\n",
       "  <tbody>\n",
       "    <tr>\n",
       "      <th>count</th>\n",
       "      <td>833.000000</td>\n",
       "      <td>833.000000</td>\n",
       "      <td>833.000000</td>\n",
       "      <td>833.000000</td>\n",
       "      <td>833.000000</td>\n",
       "      <td>833.000000</td>\n",
       "      <td>833.000000</td>\n",
       "      <td>833.000000</td>\n",
       "      <td>833.000000</td>\n",
       "    </tr>\n",
       "    <tr>\n",
       "      <th>mean</th>\n",
       "      <td>3.147899</td>\n",
       "      <td>5.627851</td>\n",
       "      <td>12.431453</td>\n",
       "      <td>9.353661</td>\n",
       "      <td>11.047179</td>\n",
       "      <td>27.375750</td>\n",
       "      <td>257.471789</td>\n",
       "      <td>4.522209</td>\n",
       "      <td>5.236495</td>\n",
       "    </tr>\n",
       "    <tr>\n",
       "      <th>std</th>\n",
       "      <td>1.353076</td>\n",
       "      <td>1.968695</td>\n",
       "      <td>3.456191</td>\n",
       "      <td>2.302312</td>\n",
       "      <td>2.878308</td>\n",
       "      <td>7.559968</td>\n",
       "      <td>64.262847</td>\n",
       "      <td>1.279385</td>\n",
       "      <td>1.665693</td>\n",
       "    </tr>\n",
       "    <tr>\n",
       "      <th>min</th>\n",
       "      <td>1.200000</td>\n",
       "      <td>3.000000</td>\n",
       "      <td>4.400000</td>\n",
       "      <td>4.400000</td>\n",
       "      <td>4.400000</td>\n",
       "      <td>11.000000</td>\n",
       "      <td>104.000000</td>\n",
       "      <td>1.000000</td>\n",
       "      <td>1.000000</td>\n",
       "    </tr>\n",
       "    <tr>\n",
       "      <th>25%</th>\n",
       "      <td>2.000000</td>\n",
       "      <td>4.000000</td>\n",
       "      <td>10.100000</td>\n",
       "      <td>7.700000</td>\n",
       "      <td>9.000000</td>\n",
       "      <td>22.000000</td>\n",
       "      <td>211.000000</td>\n",
       "      <td>4.000000</td>\n",
       "      <td>5.000000</td>\n",
       "    </tr>\n",
       "    <tr>\n",
       "      <th>50%</th>\n",
       "      <td>3.000000</td>\n",
       "      <td>6.000000</td>\n",
       "      <td>12.100000</td>\n",
       "      <td>9.100000</td>\n",
       "      <td>10.700000</td>\n",
       "      <td>26.000000</td>\n",
       "      <td>254.000000</td>\n",
       "      <td>5.000000</td>\n",
       "      <td>5.000000</td>\n",
       "    </tr>\n",
       "    <tr>\n",
       "      <th>75%</th>\n",
       "      <td>3.600000</td>\n",
       "      <td>6.000000</td>\n",
       "      <td>14.600000</td>\n",
       "      <td>10.700000</td>\n",
       "      <td>12.900000</td>\n",
       "      <td>31.000000</td>\n",
       "      <td>299.000000</td>\n",
       "      <td>5.000000</td>\n",
       "      <td>7.000000</td>\n",
       "    </tr>\n",
       "    <tr>\n",
       "      <th>max</th>\n",
       "      <td>8.000000</td>\n",
       "      <td>16.000000</td>\n",
       "      <td>30.300000</td>\n",
       "      <td>20.900000</td>\n",
       "      <td>26.100000</td>\n",
       "      <td>64.000000</td>\n",
       "      <td>608.000000</td>\n",
       "      <td>9.000000</td>\n",
       "      <td>8.000000</td>\n",
       "    </tr>\n",
       "  </tbody>\n",
       "</table>\n",
       "</div>"
      ],
      "text/plain": [
       "       Engine Size (L)   Cylinders  Fuel Consumption (L/100Km)  \\\n",
       "count       833.000000  833.000000                  833.000000   \n",
       "mean          3.147899    5.627851                   12.431453   \n",
       "std           1.353076    1.968695                    3.456191   \n",
       "min           1.200000    3.000000                    4.400000   \n",
       "25%           2.000000    4.000000                   10.100000   \n",
       "50%           3.000000    6.000000                   12.100000   \n",
       "75%           3.600000    6.000000                   14.600000   \n",
       "max           8.000000   16.000000                   30.300000   \n",
       "\n",
       "       Hwy (L/100 km)  Comb (L/100 km)  Comb (mpg)  CO2 Emissions (g/km)  \\\n",
       "count      833.000000       833.000000  833.000000            833.000000   \n",
       "mean         9.353661        11.047179   27.375750            257.471789   \n",
       "std          2.302312         2.878308    7.559968             64.262847   \n",
       "min          4.400000         4.400000   11.000000            104.000000   \n",
       "25%          7.700000         9.000000   22.000000            211.000000   \n",
       "50%          9.100000        10.700000   26.000000            254.000000   \n",
       "75%         10.700000        12.900000   31.000000            299.000000   \n",
       "max         20.900000        26.100000   64.000000            608.000000   \n",
       "\n",
       "       CO2 Rating  Smog Rating  \n",
       "count  833.000000   833.000000  \n",
       "mean     4.522209     5.236495  \n",
       "std      1.279385     1.665693  \n",
       "min      1.000000     1.000000  \n",
       "25%      4.000000     5.000000  \n",
       "50%      5.000000     5.000000  \n",
       "75%      5.000000     7.000000  \n",
       "max      9.000000     8.000000  "
      ]
     },
     "execution_count": 6,
     "metadata": {},
     "output_type": "execute_result"
    }
   ],
   "source": [
    "df.describe()   # Statistics"
   ]
  },
  {
   "cell_type": "code",
   "execution_count": 7,
   "id": "2b132a83",
   "metadata": {
    "execution": {
     "iopub.execute_input": "2023-10-23T06:31:40.089421Z",
     "iopub.status.busy": "2023-10-23T06:31:40.089076Z",
     "iopub.status.idle": "2023-10-23T06:31:40.117056Z",
     "shell.execute_reply": "2023-10-23T06:31:40.115520Z"
    },
    "papermill": {
     "duration": 0.039524,
     "end_time": "2023-10-23T06:31:40.119206",
     "exception": false,
     "start_time": "2023-10-23T06:31:40.079682",
     "status": "completed"
    },
    "tags": []
   },
   "outputs": [
    {
     "name": "stdout",
     "output_type": "stream",
     "text": [
      "<class 'pandas.core.frame.DataFrame'>\n",
      "RangeIndex: 856 entries, 0 to 855\n",
      "Data columns (total 15 columns):\n",
      " #   Column                      Non-Null Count  Dtype  \n",
      "---  ------                      --------------  -----  \n",
      " 0   Year                        841 non-null    object \n",
      " 1   Make                        854 non-null    object \n",
      " 2   Model                       833 non-null    object \n",
      " 3   Vehicle Class               833 non-null    object \n",
      " 4   Engine Size (L)             833 non-null    float64\n",
      " 5   Cylinders                   833 non-null    float64\n",
      " 6   Transmission                833 non-null    object \n",
      " 7   Fuel Type                   833 non-null    object \n",
      " 8   Fuel Consumption (L/100Km)  833 non-null    float64\n",
      " 9   Hwy (L/100 km)              833 non-null    float64\n",
      " 10  Comb (L/100 km)             833 non-null    float64\n",
      " 11  Comb (mpg)                  833 non-null    float64\n",
      " 12  CO2 Emissions (g/km)        833 non-null    float64\n",
      " 13  CO2 Rating                  833 non-null    float64\n",
      " 14  Smog Rating                 833 non-null    float64\n",
      "dtypes: float64(9), object(6)\n",
      "memory usage: 100.4+ KB\n"
     ]
    }
   ],
   "source": [
    "df.info() # Dataset Information"
   ]
  },
  {
   "cell_type": "markdown",
   "id": "31e02542",
   "metadata": {
    "papermill": {
     "duration": 0.007469,
     "end_time": "2023-10-23T06:31:40.134638",
     "exception": false,
     "start_time": "2023-10-23T06:31:40.127169",
     "status": "completed"
    },
    "tags": []
   },
   "source": [
    "# 4. Data Preprocessing"
   ]
  },
  {
   "cell_type": "code",
   "execution_count": 8,
   "id": "9b772121",
   "metadata": {
    "execution": {
     "iopub.execute_input": "2023-10-23T06:31:40.152136Z",
     "iopub.status.busy": "2023-10-23T06:31:40.151263Z",
     "iopub.status.idle": "2023-10-23T06:31:40.159982Z",
     "shell.execute_reply": "2023-10-23T06:31:40.158781Z"
    },
    "papermill": {
     "duration": 0.019685,
     "end_time": "2023-10-23T06:31:40.162091",
     "exception": false,
     "start_time": "2023-10-23T06:31:40.142406",
     "status": "completed"
    },
    "tags": []
   },
   "outputs": [
    {
     "data": {
      "text/plain": [
       "Year                          15\n",
       "Make                           2\n",
       "Model                         23\n",
       "Vehicle Class                 23\n",
       "Engine Size (L)               23\n",
       "Cylinders                     23\n",
       "Transmission                  23\n",
       "Fuel Type                     23\n",
       "Fuel Consumption (L/100Km)    23\n",
       "Hwy (L/100 km)                23\n",
       "Comb (L/100 km)               23\n",
       "Comb (mpg)                    23\n",
       "CO2 Emissions (g/km)          23\n",
       "CO2 Rating                    23\n",
       "Smog Rating                   23\n",
       "dtype: int64"
      ]
     },
     "execution_count": 8,
     "metadata": {},
     "output_type": "execute_result"
    }
   ],
   "source": [
    "df.isnull().sum()"
   ]
  },
  {
   "cell_type": "markdown",
   "id": "f2d60cf0",
   "metadata": {
    "papermill": {
     "duration": 0.007882,
     "end_time": "2023-10-23T06:31:40.177992",
     "exception": false,
     "start_time": "2023-10-23T06:31:40.170110",
     "status": "completed"
    },
    "tags": []
   },
   "source": [
    "**Handling Missing Values**"
   ]
  },
  {
   "cell_type": "code",
   "execution_count": 9,
   "id": "2712b4e0",
   "metadata": {
    "execution": {
     "iopub.execute_input": "2023-10-23T06:31:40.195371Z",
     "iopub.status.busy": "2023-10-23T06:31:40.194975Z",
     "iopub.status.idle": "2023-10-23T06:31:40.202350Z",
     "shell.execute_reply": "2023-10-23T06:31:40.201328Z"
    },
    "papermill": {
     "duration": 0.018654,
     "end_time": "2023-10-23T06:31:40.204557",
     "exception": false,
     "start_time": "2023-10-23T06:31:40.185903",
     "status": "completed"
    },
    "tags": []
   },
   "outputs": [],
   "source": [
    "df.dropna(inplace=True)"
   ]
  },
  {
   "cell_type": "markdown",
   "id": "4d7d6c4e",
   "metadata": {
    "papermill": {
     "duration": 0.007939,
     "end_time": "2023-10-23T06:31:40.220930",
     "exception": false,
     "start_time": "2023-10-23T06:31:40.212991",
     "status": "completed"
    },
    "tags": []
   },
   "source": [
    "**Removing irrelevant features**"
   ]
  },
  {
   "cell_type": "code",
   "execution_count": 10,
   "id": "ce7e2bbb",
   "metadata": {
    "execution": {
     "iopub.execute_input": "2023-10-23T06:31:40.238512Z",
     "iopub.status.busy": "2023-10-23T06:31:40.238104Z",
     "iopub.status.idle": "2023-10-23T06:31:40.246709Z",
     "shell.execute_reply": "2023-10-23T06:31:40.245510Z"
    },
    "papermill": {
     "duration": 0.019941,
     "end_time": "2023-10-23T06:31:40.248836",
     "exception": false,
     "start_time": "2023-10-23T06:31:40.228895",
     "status": "completed"
    },
    "tags": []
   },
   "outputs": [],
   "source": [
    "df=df.drop(['Transmission','Make','Year','Vehicle Class','Model'],axis=1)"
   ]
  },
  {
   "cell_type": "markdown",
   "id": "bc921e22",
   "metadata": {
    "papermill": {
     "duration": 0.007588,
     "end_time": "2023-10-23T06:31:40.264973",
     "exception": false,
     "start_time": "2023-10-23T06:31:40.257385",
     "status": "completed"
    },
    "tags": []
   },
   "source": [
    "**Label encoding**"
   ]
  },
  {
   "cell_type": "code",
   "execution_count": 11,
   "id": "12088ccc",
   "metadata": {
    "execution": {
     "iopub.execute_input": "2023-10-23T06:31:40.282291Z",
     "iopub.status.busy": "2023-10-23T06:31:40.281931Z",
     "iopub.status.idle": "2023-10-23T06:31:40.442964Z",
     "shell.execute_reply": "2023-10-23T06:31:40.442016Z"
    },
    "papermill": {
     "duration": 0.172492,
     "end_time": "2023-10-23T06:31:40.445350",
     "exception": false,
     "start_time": "2023-10-23T06:31:40.272858",
     "status": "completed"
    },
    "tags": []
   },
   "outputs": [],
   "source": [
    "from sklearn.preprocessing import LabelEncoder\n",
    "\n",
    "label_encoder = LabelEncoder()\n"
   ]
  },
  {
   "cell_type": "code",
   "execution_count": 12,
   "id": "8198dfaa",
   "metadata": {
    "execution": {
     "iopub.execute_input": "2023-10-23T06:31:40.463866Z",
     "iopub.status.busy": "2023-10-23T06:31:40.462853Z",
     "iopub.status.idle": "2023-10-23T06:31:40.468399Z",
     "shell.execute_reply": "2023-10-23T06:31:40.467642Z"
    },
    "papermill": {
     "duration": 0.017093,
     "end_time": "2023-10-23T06:31:40.470582",
     "exception": false,
     "start_time": "2023-10-23T06:31:40.453489",
     "status": "completed"
    },
    "tags": []
   },
   "outputs": [],
   "source": [
    "categorical_columns = ['Fuel Type']\n",
    "\n",
    "# Apply label encoding to each categorical column\n",
    "\n",
    "for column in categorical_columns:\n",
    "    df[column] = label_encoder.fit_transform(df[column])"
   ]
  },
  {
   "cell_type": "code",
   "execution_count": 13,
   "id": "d6da7ac4",
   "metadata": {
    "execution": {
     "iopub.execute_input": "2023-10-23T06:31:40.488489Z",
     "iopub.status.busy": "2023-10-23T06:31:40.487835Z",
     "iopub.status.idle": "2023-10-23T06:31:40.505257Z",
     "shell.execute_reply": "2023-10-23T06:31:40.504166Z"
    },
    "papermill": {
     "duration": 0.028739,
     "end_time": "2023-10-23T06:31:40.507275",
     "exception": false,
     "start_time": "2023-10-23T06:31:40.478536",
     "status": "completed"
    },
    "tags": []
   },
   "outputs": [
    {
     "data": {
      "text/html": [
       "<div>\n",
       "<style scoped>\n",
       "    .dataframe tbody tr th:only-of-type {\n",
       "        vertical-align: middle;\n",
       "    }\n",
       "\n",
       "    .dataframe tbody tr th {\n",
       "        vertical-align: top;\n",
       "    }\n",
       "\n",
       "    .dataframe thead th {\n",
       "        text-align: right;\n",
       "    }\n",
       "</style>\n",
       "<table border=\"1\" class=\"dataframe\">\n",
       "  <thead>\n",
       "    <tr style=\"text-align: right;\">\n",
       "      <th></th>\n",
       "      <th>Engine Size (L)</th>\n",
       "      <th>Cylinders</th>\n",
       "      <th>Fuel Type</th>\n",
       "      <th>Fuel Consumption (L/100Km)</th>\n",
       "      <th>Hwy (L/100 km)</th>\n",
       "      <th>Comb (L/100 km)</th>\n",
       "      <th>Comb (mpg)</th>\n",
       "      <th>CO2 Emissions (g/km)</th>\n",
       "      <th>CO2 Rating</th>\n",
       "      <th>Smog Rating</th>\n",
       "    </tr>\n",
       "  </thead>\n",
       "  <tbody>\n",
       "    <tr>\n",
       "      <th>0</th>\n",
       "      <td>1.5</td>\n",
       "      <td>4.0</td>\n",
       "      <td>3</td>\n",
       "      <td>7.9</td>\n",
       "      <td>6.3</td>\n",
       "      <td>7.2</td>\n",
       "      <td>39.0</td>\n",
       "      <td>167.0</td>\n",
       "      <td>6.0</td>\n",
       "      <td>7.0</td>\n",
       "    </tr>\n",
       "    <tr>\n",
       "      <th>1</th>\n",
       "      <td>1.5</td>\n",
       "      <td>4.0</td>\n",
       "      <td>3</td>\n",
       "      <td>8.1</td>\n",
       "      <td>6.5</td>\n",
       "      <td>7.4</td>\n",
       "      <td>38.0</td>\n",
       "      <td>172.0</td>\n",
       "      <td>6.0</td>\n",
       "      <td>7.0</td>\n",
       "    </tr>\n",
       "    <tr>\n",
       "      <th>2</th>\n",
       "      <td>1.5</td>\n",
       "      <td>4.0</td>\n",
       "      <td>3</td>\n",
       "      <td>8.9</td>\n",
       "      <td>6.5</td>\n",
       "      <td>7.8</td>\n",
       "      <td>36.0</td>\n",
       "      <td>181.0</td>\n",
       "      <td>6.0</td>\n",
       "      <td>6.0</td>\n",
       "    </tr>\n",
       "    <tr>\n",
       "      <th>3</th>\n",
       "      <td>3.5</td>\n",
       "      <td>6.0</td>\n",
       "      <td>3</td>\n",
       "      <td>12.6</td>\n",
       "      <td>9.4</td>\n",
       "      <td>11.2</td>\n",
       "      <td>25.0</td>\n",
       "      <td>263.0</td>\n",
       "      <td>4.0</td>\n",
       "      <td>5.0</td>\n",
       "    </tr>\n",
       "    <tr>\n",
       "      <th>4</th>\n",
       "      <td>3.0</td>\n",
       "      <td>6.0</td>\n",
       "      <td>3</td>\n",
       "      <td>13.8</td>\n",
       "      <td>11.2</td>\n",
       "      <td>12.4</td>\n",
       "      <td>23.0</td>\n",
       "      <td>291.0</td>\n",
       "      <td>4.0</td>\n",
       "      <td>5.0</td>\n",
       "    </tr>\n",
       "  </tbody>\n",
       "</table>\n",
       "</div>"
      ],
      "text/plain": [
       "   Engine Size (L)  Cylinders  Fuel Type  Fuel Consumption (L/100Km)  \\\n",
       "0              1.5        4.0          3                         7.9   \n",
       "1              1.5        4.0          3                         8.1   \n",
       "2              1.5        4.0          3                         8.9   \n",
       "3              3.5        6.0          3                        12.6   \n",
       "4              3.0        6.0          3                        13.8   \n",
       "\n",
       "   Hwy (L/100 km)  Comb (L/100 km)  Comb (mpg)  CO2 Emissions (g/km)  \\\n",
       "0             6.3              7.2        39.0                 167.0   \n",
       "1             6.5              7.4        38.0                 172.0   \n",
       "2             6.5              7.8        36.0                 181.0   \n",
       "3             9.4             11.2        25.0                 263.0   \n",
       "4            11.2             12.4        23.0                 291.0   \n",
       "\n",
       "   CO2 Rating  Smog Rating  \n",
       "0         6.0          7.0  \n",
       "1         6.0          7.0  \n",
       "2         6.0          6.0  \n",
       "3         4.0          5.0  \n",
       "4         4.0          5.0  "
      ]
     },
     "execution_count": 13,
     "metadata": {},
     "output_type": "execute_result"
    }
   ],
   "source": [
    "df.head()"
   ]
  },
  {
   "cell_type": "markdown",
   "id": "8b9c1536",
   "metadata": {
    "papermill": {
     "duration": 0.007654,
     "end_time": "2023-10-23T06:31:40.523068",
     "exception": false,
     "start_time": "2023-10-23T06:31:40.515414",
     "status": "completed"
    },
    "tags": []
   },
   "source": [
    "**Define features and the target variable**"
   ]
  },
  {
   "cell_type": "code",
   "execution_count": 14,
   "id": "0c0f6b32",
   "metadata": {
    "execution": {
     "iopub.execute_input": "2023-10-23T06:31:40.541223Z",
     "iopub.status.busy": "2023-10-23T06:31:40.540604Z",
     "iopub.status.idle": "2023-10-23T06:31:40.551623Z",
     "shell.execute_reply": "2023-10-23T06:31:40.550350Z"
    },
    "papermill": {
     "duration": 0.023113,
     "end_time": "2023-10-23T06:31:40.554241",
     "exception": false,
     "start_time": "2023-10-23T06:31:40.531128",
     "status": "completed"
    },
    "tags": []
   },
   "outputs": [],
   "source": [
    "X = df.drop(['CO2 Emissions (g/km)'],axis=1)\n",
    "y = df['CO2 Emissions (g/km)']"
   ]
  },
  {
   "cell_type": "markdown",
   "id": "77829b93",
   "metadata": {
    "papermill": {
     "duration": 0.008151,
     "end_time": "2023-10-23T06:31:40.570675",
     "exception": false,
     "start_time": "2023-10-23T06:31:40.562524",
     "status": "completed"
    },
    "tags": []
   },
   "source": [
    "# 5. Data Splitting"
   ]
  },
  {
   "cell_type": "code",
   "execution_count": 15,
   "id": "0a9f1730",
   "metadata": {
    "execution": {
     "iopub.execute_input": "2023-10-23T06:31:40.588468Z",
     "iopub.status.busy": "2023-10-23T06:31:40.588101Z",
     "iopub.status.idle": "2023-10-23T06:31:40.694095Z",
     "shell.execute_reply": "2023-10-23T06:31:40.692975Z"
    },
    "papermill": {
     "duration": 0.117713,
     "end_time": "2023-10-23T06:31:40.696606",
     "exception": false,
     "start_time": "2023-10-23T06:31:40.578893",
     "status": "completed"
    },
    "tags": []
   },
   "outputs": [],
   "source": [
    "from sklearn.model_selection import train_test_split"
   ]
  },
  {
   "cell_type": "code",
   "execution_count": 16,
   "id": "7d75d507",
   "metadata": {
    "execution": {
     "iopub.execute_input": "2023-10-23T06:31:40.714783Z",
     "iopub.status.busy": "2023-10-23T06:31:40.714383Z",
     "iopub.status.idle": "2023-10-23T06:31:40.721844Z",
     "shell.execute_reply": "2023-10-23T06:31:40.720826Z"
    },
    "papermill": {
     "duration": 0.018947,
     "end_time": "2023-10-23T06:31:40.723949",
     "exception": false,
     "start_time": "2023-10-23T06:31:40.705002",
     "status": "completed"
    },
    "tags": []
   },
   "outputs": [],
   "source": [
    "# Split the data into training and testing sets\n",
    "X_train, X_test, y_train, y_test = train_test_split(X, y, test_size=0.2, random_state=42)"
   ]
  },
  {
   "cell_type": "markdown",
   "id": "e612ee34",
   "metadata": {
    "papermill": {
     "duration": 0.007844,
     "end_time": "2023-10-23T06:31:40.739918",
     "exception": false,
     "start_time": "2023-10-23T06:31:40.732074",
     "status": "completed"
    },
    "tags": []
   },
   "source": [
    "# 6. Model Building"
   ]
  },
  {
   "cell_type": "markdown",
   "id": "c1d0a4df",
   "metadata": {
    "papermill": {
     "duration": 0.007725,
     "end_time": "2023-10-23T06:31:40.755795",
     "exception": false,
     "start_time": "2023-10-23T06:31:40.748070",
     "status": "completed"
    },
    "tags": []
   },
   "source": [
    "**Model Selection**"
   ]
  },
  {
   "cell_type": "code",
   "execution_count": 17,
   "id": "3922147f",
   "metadata": {
    "execution": {
     "iopub.execute_input": "2023-10-23T06:31:40.774300Z",
     "iopub.status.busy": "2023-10-23T06:31:40.773666Z",
     "iopub.status.idle": "2023-10-23T06:31:40.878793Z",
     "shell.execute_reply": "2023-10-23T06:31:40.877641Z"
    },
    "papermill": {
     "duration": 0.117316,
     "end_time": "2023-10-23T06:31:40.881211",
     "exception": false,
     "start_time": "2023-10-23T06:31:40.763895",
     "status": "completed"
    },
    "tags": []
   },
   "outputs": [],
   "source": [
    "from sklearn.linear_model import LinearRegression\n",
    "\n",
    "model = LinearRegression()"
   ]
  },
  {
   "cell_type": "markdown",
   "id": "e36a8821",
   "metadata": {
    "papermill": {
     "duration": 0.007647,
     "end_time": "2023-10-23T06:31:40.897123",
     "exception": false,
     "start_time": "2023-10-23T06:31:40.889476",
     "status": "completed"
    },
    "tags": []
   },
   "source": [
    "**Model Training**"
   ]
  },
  {
   "cell_type": "code",
   "execution_count": 18,
   "id": "fb2e6c31",
   "metadata": {
    "execution": {
     "iopub.execute_input": "2023-10-23T06:31:40.915292Z",
     "iopub.status.busy": "2023-10-23T06:31:40.914924Z",
     "iopub.status.idle": "2023-10-23T06:31:40.947474Z",
     "shell.execute_reply": "2023-10-23T06:31:40.946201Z"
    },
    "papermill": {
     "duration": 0.044599,
     "end_time": "2023-10-23T06:31:40.950109",
     "exception": false,
     "start_time": "2023-10-23T06:31:40.905510",
     "status": "completed"
    },
    "tags": []
   },
   "outputs": [],
   "source": [
    "model.fit(X_train, y_train)\n",
    "\n",
    "\n",
    "# Make predictions on the test set\n",
    "y_pred = model.predict(X_test)"
   ]
  },
  {
   "cell_type": "markdown",
   "id": "8592dc11",
   "metadata": {
    "papermill": {
     "duration": 0.00841,
     "end_time": "2023-10-23T06:31:40.966985",
     "exception": false,
     "start_time": "2023-10-23T06:31:40.958575",
     "status": "completed"
    },
    "tags": []
   },
   "source": [
    "# 7. Evaluation"
   ]
  },
  {
   "cell_type": "code",
   "execution_count": 19,
   "id": "d437a6e8",
   "metadata": {
    "execution": {
     "iopub.execute_input": "2023-10-23T06:31:40.984936Z",
     "iopub.status.busy": "2023-10-23T06:31:40.984578Z",
     "iopub.status.idle": "2023-10-23T06:31:40.989368Z",
     "shell.execute_reply": "2023-10-23T06:31:40.988369Z"
    },
    "papermill": {
     "duration": 0.016426,
     "end_time": "2023-10-23T06:31:40.991575",
     "exception": false,
     "start_time": "2023-10-23T06:31:40.975149",
     "status": "completed"
    },
    "tags": []
   },
   "outputs": [],
   "source": [
    "from sklearn.metrics import mean_absolute_error, mean_squared_error, r2_score"
   ]
  },
  {
   "cell_type": "code",
   "execution_count": 20,
   "id": "ae933b3c",
   "metadata": {
    "execution": {
     "iopub.execute_input": "2023-10-23T06:31:41.066603Z",
     "iopub.status.busy": "2023-10-23T06:31:41.065977Z",
     "iopub.status.idle": "2023-10-23T06:31:41.074394Z",
     "shell.execute_reply": "2023-10-23T06:31:41.073254Z"
    },
    "papermill": {
     "duration": 0.02002,
     "end_time": "2023-10-23T06:31:41.076630",
     "exception": false,
     "start_time": "2023-10-23T06:31:41.056610",
     "status": "completed"
    },
    "tags": []
   },
   "outputs": [
    {
     "name": "stdout",
     "output_type": "stream",
     "text": [
      "Mean Absolute Error (MAE): 7.19\n",
      "Mean Squared Error (MSE): 90.24\n",
      "Root Mean Squared Error (RMSE): 9.50\n",
      "R-squared (R2): 0.97\n"
     ]
    }
   ],
   "source": [
    "# Evaluate the model\n",
    "\n",
    "mae = mean_absolute_error(y_test, y_pred)\n",
    "mse = mean_squared_error(y_test, y_pred)\n",
    "rmse = np.sqrt(mse)\n",
    "r2 = r2_score(y_test, y_pred)\n",
    "\n",
    "\n",
    "print(f\"Mean Absolute Error (MAE): {mae:.2f}\")\n",
    "print(f\"Mean Squared Error (MSE): {mse:.2f}\")\n",
    "print(f\"Root Mean Squared Error (RMSE): {rmse:.2f}\")\n",
    "print(f\"R-squared (R2): {r2:.2f}\")\n",
    "\n"
   ]
  },
  {
   "cell_type": "markdown",
   "id": "a946129d",
   "metadata": {
    "papermill": {
     "duration": 0.008229,
     "end_time": "2023-10-23T06:31:41.093158",
     "exception": false,
     "start_time": "2023-10-23T06:31:41.084929",
     "status": "completed"
    },
    "tags": []
   },
   "source": [
    "# 8. Scatter Plot with Regression Line"
   ]
  },
  {
   "cell_type": "code",
   "execution_count": 21,
   "id": "8f357f51",
   "metadata": {
    "execution": {
     "iopub.execute_input": "2023-10-23T06:31:41.111885Z",
     "iopub.status.busy": "2023-10-23T06:31:41.111465Z",
     "iopub.status.idle": "2023-10-23T06:31:41.568823Z",
     "shell.execute_reply": "2023-10-23T06:31:41.567529Z"
    },
    "papermill": {
     "duration": 0.469842,
     "end_time": "2023-10-23T06:31:41.571581",
     "exception": false,
     "start_time": "2023-10-23T06:31:41.101739",
     "status": "completed"
    },
    "tags": []
   },
   "outputs": [
    {
     "data": {
      "image/png": "[encoded data removed]",
      "text/plain": [
       "<Figure size 1000x600 with 1 Axes>"
      ]
     },
     "metadata": {},
     "output_type": "display_data"
    }
   ],
   "source": [
    "\n",
    "# Create a scatterplot\n",
    "plt.figure(figsize=(10, 6))\n",
    "plt.scatter(y_test, y_pred, color='b', alpha=0.8, edgecolors='k', s=100)\n",
    "\n",
    "# Add a regression line\n",
    "sns.regplot(x=y_test, y=y_pred, scatter=False, color='y', line_kws={\"color\": \"y\", \"lw\": 2})\n",
    "\n",
    "plt.xlabel(\"Actual Values\", fontsize=14)\n",
    "plt.ylabel(\"Predicted Values\", fontsize=14)\n",
    "plt.title(\"Model Performance - Actual vs. Predicted Values\", fontsize=16)\n",
    "\n",
    "\n",
    "plt.xticks(fontsize=12)\n",
    "plt.yticks(fontsize=12)\n",
    "\n",
    "\n",
    "plt.show()\n"
   ]
  }
 ],
 "metadata": {
  "kernelspec": {
   "display_name": "Python 3",
   "language": "python",
   "name": "python3"
  },
  "language_info": {
   "codemirror_mode": {
    "name": "ipython",
    "version": 3
   },
   "file_extension": ".py",
   "mimetype": "text/x-python",
   "name": "python",
   "nbconvert_exporter": "python",
   "pygments_lexer": "ipython3",
   "version": "3.10.12"
  },
  "papermill": {
   "default_parameters": {},
   "duration": 7.438229,
   "end_time": "2023-10-23T06:31:42.202091",
   "environment_variables": {},
   "exception": null,
   "input_path": "__notebook__.ipynb",
   "output_path": "__notebook__.ipynb",
   "parameters": {},
   "start_time": "2023-10-23T06:31:34.763862",
   "version": "2.4.0"
  }
 },
 "nbformat": 4,
 "nbformat_minor": 5
}
